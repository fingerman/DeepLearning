{
  "nbformat": 4,
  "nbformat_minor": 0,
  "metadata": {
    "kernelspec": {
      "name": "python3",
      "display_name": "Python 3"
    },
    "language_info": {
      "codemirror_mode": {
        "name": "ipython",
        "version": 3
      },
      "file_extension": ".py",
      "mimetype": "text/x-python",
      "name": "python",
      "nbconvert_exporter": "python",
      "pygments_lexer": "ipython3",
      "version": "3.6.6"
    },
    "colab": {
      "name": "Fully_Connected_Neural_Networks_Fashion_MNIST.ipynb",
      "provenance": [],
      "collapsed_sections": [],
      "include_colab_link": true
    },
    "accelerator": "GPU"
  },
  "cells": [
    {
      "cell_type": "markdown",
      "metadata": {
        "id": "view-in-github",
        "colab_type": "text"
      },
      "source": [
        "<a href=\"https://colab.research.google.com/github/fingerman/DeepLearning/blob/master/Fully_Connected_Neural_Networks_Fashion_MNIST.ipynb\" target=\"_parent\"><img src=\"https://colab.research.google.com/assets/colab-badge.svg\" alt=\"Open In Colab\"/></a>"
      ]
    },
    {
      "cell_type": "code",
      "metadata": {
        "id": "hUM69MR_zCBU",
        "colab_type": "code",
        "colab": {}
      },
      "source": [
        "import tensorflow as tf\n",
        "import matplotlib.pyplot as plt\n",
        "import tensorflow.keras as keras\n",
        "import numpy as np\n",
        "from tensorflow.keras import layers\n",
        "from tensorflow.keras.models import Sequential\n",
        "from tensorflow.keras.layers import Dense, Flatten, Dropout"
      ],
      "execution_count": 0,
      "outputs": []
    },
    {
      "cell_type": "code",
      "metadata": {
        "id": "ajiZpO85zCCl",
        "colab_type": "code",
        "colab": {
          "base_uri": "https://localhost:8080/",
          "height": 153
        },
        "outputId": "7fb2c379-3002-4c1c-d207-41304a3e0a9e"
      },
      "source": [
        "from tensorflow.keras.datasets import fashion_mnist\n",
        "\n",
        "(x_train, y_train), (x_test, y_test) = fashion_mnist.load_data()"
      ],
      "execution_count": 3,
      "outputs": [
        {
          "output_type": "stream",
          "text": [
            "Downloading data from https://storage.googleapis.com/tensorflow/tf-keras-datasets/train-labels-idx1-ubyte.gz\n",
            "32768/29515 [=================================] - 0s 0us/step\n",
            "Downloading data from https://storage.googleapis.com/tensorflow/tf-keras-datasets/train-images-idx3-ubyte.gz\n",
            "26427392/26421880 [==============================] - 0s 0us/step\n",
            "Downloading data from https://storage.googleapis.com/tensorflow/tf-keras-datasets/t10k-labels-idx1-ubyte.gz\n",
            "8192/5148 [===============================================] - 0s 0us/step\n",
            "Downloading data from https://storage.googleapis.com/tensorflow/tf-keras-datasets/t10k-images-idx3-ubyte.gz\n",
            "4423680/4422102 [==============================] - 0s 0us/step\n"
          ],
          "name": "stdout"
        }
      ]
    },
    {
      "cell_type": "code",
      "metadata": {
        "id": "I0vJ06pQzCEz",
        "colab_type": "code",
        "colab": {
          "base_uri": "https://localhost:8080/",
          "height": 282
        },
        "outputId": "c8817fb6-6117-4902-bd44-d4583f897c92"
      },
      "source": [
        "plt.imshow(x_train[3], cmap = plt.cm.binary)"
      ],
      "execution_count": 4,
      "outputs": [
        {
          "output_type": "execute_result",
          "data": {
            "text/plain": [
              "<matplotlib.image.AxesImage at 0x7fb4aa1f4898>"
            ]
          },
          "metadata": {
            "tags": []
          },
          "execution_count": 4
        },
        {
          "output_type": "display_data",
          "data": {
            "image/png": "[encoded data removed]",
            "text/plain": [
              "<Figure size 432x288 with 1 Axes>"
            ]
          },
          "metadata": {
            "tags": []
          }
        }
      ]
    },
    {
      "cell_type": "code",
      "metadata": {
        "id": "C57TgOZJzCF0",
        "colab_type": "code",
        "colab": {
          "base_uri": "https://localhost:8080/",
          "height": 51
        },
        "outputId": "5df8b5d6-ec87-4151-bf75-4d7f14c2b528"
      },
      "source": [
        "print(x_train.shape)\n",
        "print(x_test.shape)"
      ],
      "execution_count": 5,
      "outputs": [
        {
          "output_type": "stream",
          "text": [
            "(60000, 28, 28)\n",
            "(10000, 28, 28)\n"
          ],
          "name": "stdout"
        }
      ]
    },
    {
      "cell_type": "code",
      "metadata": {
        "id": "J7D5ac9IzCGz",
        "colab_type": "code",
        "colab": {
          "base_uri": "https://localhost:8080/",
          "height": 51
        },
        "outputId": "7640da86-8f96-460e-9705-c91c5cd911f6"
      },
      "source": [
        "# flatten each image before we can pass it into our neural network\n",
        "x_train = x_train.reshape((-1, 784))\n",
        "x_test = x_test.reshape((-1, 784))\n",
        "print(x_train.shape)\n",
        "print(x_test.shape)"
      ],
      "execution_count": 6,
      "outputs": [
        {
          "output_type": "stream",
          "text": [
            "(60000, 784)\n",
            "(10000, 784)\n"
          ],
          "name": "stdout"
        }
      ]
    },
    {
      "cell_type": "code",
      "metadata": {
        "id": "FrbFQxQ-zCHd",
        "colab_type": "code",
        "colab": {
          "base_uri": "https://localhost:8080/",
          "height": 289
        },
        "outputId": "15ff7caa-9a60-48ed-f3c4-715d8d99b145"
      },
      "source": [
        "model = Sequential([\n",
        "    \n",
        "    Dense(64, activation='relu', input_shape=(784,)),\n",
        "    Dense(64, activation='relu'),\n",
        "    Dense(64, activation='relu'),\n",
        "    Dense(10, activation = tf.nn.softmax)\n",
        "    ])\n",
        "# `input_shape` is the shape of the input data e.g. input_shape = (None, 32, 32, 3)\n",
        "# in this case we have just one color\n",
        "model.summary()"
      ],
      "execution_count": 40,
      "outputs": [
        {
          "output_type": "stream",
          "text": [
            "Model: \"sequential_5\"\n",
            "_________________________________________________________________\n",
            "Layer (type)                 Output Shape              Param #   \n",
            "=================================================================\n",
            "dense_17 (Dense)             (None, 64)                50240     \n",
            "_________________________________________________________________\n",
            "dense_18 (Dense)             (None, 64)                4160      \n",
            "_________________________________________________________________\n",
            "dense_19 (Dense)             (None, 64)                4160      \n",
            "_________________________________________________________________\n",
            "dense_20 (Dense)             (None, 10)                650       \n",
            "=================================================================\n",
            "Total params: 59,210\n",
            "Trainable params: 59,210\n",
            "Non-trainable params: 0\n",
            "_________________________________________________________________\n"
          ],
          "name": "stdout"
        }
      ]
    },
    {
      "cell_type": "code",
      "metadata": {
        "id": "EsutOO4kzCIq",
        "colab_type": "code",
        "colab": {}
      },
      "source": [
        "model.compile(optimizer='adam',\n",
        "             loss='sparse_categorical_crossentropy',\n",
        "             metrics=['accuracy'] )"
      ],
      "execution_count": 0,
      "outputs": []
    },
    {
      "cell_type": "code",
      "metadata": {
        "id": "ztaXGEquzCIz",
        "colab_type": "code",
        "colab": {
          "base_uri": "https://localhost:8080/",
          "height": 1000
        },
        "outputId": "9e3835d8-be87-4ec5-f0c6-2aa7cdd774f4"
      },
      "source": [
        "history = model.fit(x_train, y_train,\n",
        "                    batch_size=32,\n",
        "                    epochs=40,\n",
        "                    verbose=1,\n",
        "                    validation_data=(x_test, y_test))"
      ],
      "execution_count": 43,
      "outputs": [
        {
          "output_type": "stream",
          "text": [
            "Train on 60000 samples, validate on 10000 samples\n",
            "Epoch 1/40\n",
            "60000/60000 [==============================] - 7s 117us/sample - loss: 1.4568 - acc: 0.7135 - val_loss: 0.6729 - val_acc: 0.7910\n",
            "Epoch 2/40\n",
            "60000/60000 [==============================] - 7s 112us/sample - loss: 0.5961 - acc: 0.7968 - val_loss: 0.5457 - val_acc: 0.8142\n",
            "Epoch 3/40\n",
            "60000/60000 [==============================] - 7s 114us/sample - loss: 0.5042 - acc: 0.8268 - val_loss: 0.5445 - val_acc: 0.8144\n",
            "Epoch 4/40\n",
            "60000/60000 [==============================] - 7s 114us/sample - loss: 0.4599 - acc: 0.8385 - val_loss: 0.5284 - val_acc: 0.8213\n",
            "Epoch 5/40\n",
            "60000/60000 [==============================] - 7s 114us/sample - loss: 0.4353 - acc: 0.8455 - val_loss: 0.5081 - val_acc: 0.8241\n",
            "Epoch 6/40\n",
            "60000/60000 [==============================] - 7s 112us/sample - loss: 0.4075 - acc: 0.8537 - val_loss: 0.4463 - val_acc: 0.8421\n",
            "Epoch 7/40\n",
            "60000/60000 [==============================] - 7s 113us/sample - loss: 0.3941 - acc: 0.8578 - val_loss: 0.4520 - val_acc: 0.8471\n",
            "Epoch 8/40\n",
            "60000/60000 [==============================] - 7s 112us/sample - loss: 0.3834 - acc: 0.8610 - val_loss: 0.4192 - val_acc: 0.8547\n",
            "Epoch 9/40\n",
            "60000/60000 [==============================] - 7s 112us/sample - loss: 0.3735 - acc: 0.8665 - val_loss: 0.4254 - val_acc: 0.8516\n",
            "Epoch 10/40\n",
            "60000/60000 [==============================] - 7s 113us/sample - loss: 0.3672 - acc: 0.8667 - val_loss: 0.4278 - val_acc: 0.8504\n",
            "Epoch 11/40\n",
            "60000/60000 [==============================] - 7s 114us/sample - loss: 0.3614 - acc: 0.8704 - val_loss: 0.4336 - val_acc: 0.8454\n",
            "Epoch 12/40\n",
            "60000/60000 [==============================] - 7s 113us/sample - loss: 0.3514 - acc: 0.8721 - val_loss: 0.4070 - val_acc: 0.8582\n",
            "Epoch 13/40\n",
            "60000/60000 [==============================] - 7s 113us/sample - loss: 0.3509 - acc: 0.8722 - val_loss: 0.4017 - val_acc: 0.8594\n",
            "Epoch 14/40\n",
            "60000/60000 [==============================] - 7s 113us/sample - loss: 0.3445 - acc: 0.8752 - val_loss: 0.3958 - val_acc: 0.8651\n",
            "Epoch 15/40\n",
            "60000/60000 [==============================] - 7s 113us/sample - loss: 0.3393 - acc: 0.8768 - val_loss: 0.4066 - val_acc: 0.8581\n",
            "Epoch 16/40\n",
            "60000/60000 [==============================] - 7s 116us/sample - loss: 0.3372 - acc: 0.8771 - val_loss: 0.4181 - val_acc: 0.8623\n",
            "Epoch 17/40\n",
            "60000/60000 [==============================] - 7s 118us/sample - loss: 0.3342 - acc: 0.8780 - val_loss: 0.4252 - val_acc: 0.8518\n",
            "Epoch 18/40\n",
            "60000/60000 [==============================] - 7s 112us/sample - loss: 0.3300 - acc: 0.8790 - val_loss: 0.4083 - val_acc: 0.8589\n",
            "Epoch 19/40\n",
            "60000/60000 [==============================] - 7s 112us/sample - loss: 0.3267 - acc: 0.8807 - val_loss: 0.4271 - val_acc: 0.8545\n",
            "Epoch 20/40\n",
            "60000/60000 [==============================] - 7s 113us/sample - loss: 0.3267 - acc: 0.8813 - val_loss: 0.4227 - val_acc: 0.8618\n",
            "Epoch 21/40\n",
            "60000/60000 [==============================] - 7s 113us/sample - loss: 0.3272 - acc: 0.8812 - val_loss: 0.4151 - val_acc: 0.8636\n",
            "Epoch 22/40\n",
            "60000/60000 [==============================] - 7s 114us/sample - loss: 0.3228 - acc: 0.8826 - val_loss: 0.4456 - val_acc: 0.8621\n",
            "Epoch 23/40\n",
            "60000/60000 [==============================] - 7s 118us/sample - loss: 0.3232 - acc: 0.8838 - val_loss: 0.4365 - val_acc: 0.8578\n",
            "Epoch 24/40\n",
            "60000/60000 [==============================] - 7s 112us/sample - loss: 0.3217 - acc: 0.8830 - val_loss: 0.4041 - val_acc: 0.8637\n",
            "Epoch 25/40\n",
            "60000/60000 [==============================] - 7s 113us/sample - loss: 0.3202 - acc: 0.8823 - val_loss: 0.4338 - val_acc: 0.8560\n",
            "Epoch 26/40\n",
            "60000/60000 [==============================] - 7s 112us/sample - loss: 0.3148 - acc: 0.8846 - val_loss: 0.4340 - val_acc: 0.8552\n",
            "Epoch 27/40\n",
            "60000/60000 [==============================] - 7s 113us/sample - loss: 0.3130 - acc: 0.8853 - val_loss: 0.4485 - val_acc: 0.8600\n",
            "Epoch 28/40\n",
            "60000/60000 [==============================] - 7s 112us/sample - loss: 0.3102 - acc: 0.8873 - val_loss: 0.4121 - val_acc: 0.8656\n",
            "Epoch 29/40\n",
            "60000/60000 [==============================] - 7s 113us/sample - loss: 0.3140 - acc: 0.8846 - val_loss: 0.4206 - val_acc: 0.8693\n",
            "Epoch 30/40\n",
            "60000/60000 [==============================] - 7s 113us/sample - loss: 0.3139 - acc: 0.8868 - val_loss: 0.4192 - val_acc: 0.8599\n",
            "Epoch 31/40\n",
            "60000/60000 [==============================] - 7s 112us/sample - loss: 0.3060 - acc: 0.8886 - val_loss: 0.4536 - val_acc: 0.8531\n",
            "Epoch 32/40\n",
            "60000/60000 [==============================] - 7s 114us/sample - loss: 0.3162 - acc: 0.8868 - val_loss: 0.4198 - val_acc: 0.8604\n",
            "Epoch 33/40\n",
            "60000/60000 [==============================] - 7s 113us/sample - loss: 0.3091 - acc: 0.8880 - val_loss: 0.4512 - val_acc: 0.8615\n",
            "Epoch 34/40\n",
            "60000/60000 [==============================] - 7s 113us/sample - loss: 0.3082 - acc: 0.8882 - val_loss: 0.4633 - val_acc: 0.8610\n",
            "Epoch 35/40\n",
            "60000/60000 [==============================] - 7s 113us/sample - loss: 0.3050 - acc: 0.8897 - val_loss: 0.4285 - val_acc: 0.8705\n",
            "Epoch 36/40\n",
            "60000/60000 [==============================] - 7s 113us/sample - loss: 0.3010 - acc: 0.8894 - val_loss: 0.4547 - val_acc: 0.8588\n",
            "Epoch 37/40\n",
            "60000/60000 [==============================] - 7s 112us/sample - loss: 0.3065 - acc: 0.8881 - val_loss: 0.4746 - val_acc: 0.8587\n",
            "Epoch 38/40\n",
            "60000/60000 [==============================] - 7s 112us/sample - loss: 0.3038 - acc: 0.8899 - val_loss: 0.4307 - val_acc: 0.8609\n",
            "Epoch 39/40\n",
            "60000/60000 [==============================] - 7s 113us/sample - loss: 0.3031 - acc: 0.8899 - val_loss: 0.4347 - val_acc: 0.8650\n",
            "Epoch 40/40\n",
            "60000/60000 [==============================] - 7s 113us/sample - loss: 0.3008 - acc: 0.8896 - val_loss: 0.4976 - val_acc: 0.8656\n"
          ],
          "name": "stdout"
        }
      ]
    },
    {
      "cell_type": "code",
      "metadata": {
        "id": "olL5wTN9zCI7",
        "colab_type": "code",
        "colab": {
          "base_uri": "https://localhost:8080/",
          "height": 545
        },
        "outputId": "c202ef09-2bd4-4b43-e07a-95715db68066"
      },
      "source": [
        "acc = history.history['acc']\n",
        "val_acc = history.history['val_acc']\n",
        "loss = history.history['loss']\n",
        "val_loss = history.history['val_loss']\n",
        "\n",
        "epochs = range(len(acc))\n",
        "\n",
        "plt.plot(epochs, acc, 'bo', label='Training acc')\n",
        "plt.plot(epochs, val_acc, 'b', label='Validation acc')\n",
        "plt.title('Training and validation accuracy')\n",
        "plt.legend()\n",
        "\n",
        "plt.figure()\n",
        "\n",
        "plt.plot(epochs, loss, 'bo', label='Training loss')\n",
        "plt.plot(epochs, val_loss, 'b', label='Validation loss')\n",
        "plt.title('Training and validation loss')\n",
        "plt.legend()\n",
        "\n",
        "plt.show()"
      ],
      "execution_count": 44,
      "outputs": [
        {
          "output_type": "display_data",
          "data": {
            "image/png": "[encoded data removed]",
            "text/plain": [
              "<Figure size 432x288 with 1 Axes>"
            ]
          },
          "metadata": {
            "tags": []
          }
        },
        {
          "output_type": "display_data",
          "data": {
            "image/png": "[encoded data removed]",
            "text/plain": [
              "<Figure size 432x288 with 1 Axes>"
            ]
          },
          "metadata": {
            "tags": []
          }
        }
      ]
    },
    {
      "cell_type": "code",
      "metadata": {
        "id": "NnHaj_Hd-aVH",
        "colab_type": "code",
        "colab": {
          "base_uri": "https://localhost:8080/",
          "height": 34
        },
        "outputId": "f6cec9d8-2c5a-40f1-d959-0cc408fb6afa"
      },
      "source": [
        "print(\"Best Validation/Test Accuracy: \", max(val_acc))"
      ],
      "execution_count": 45,
      "outputs": [
        {
          "output_type": "stream",
          "text": [
            "Best Validation/Test Accuracy:  0.8705\n"
          ],
          "name": "stdout"
        }
      ]
    },
    {
      "cell_type": "code",
      "metadata": {
        "id": "rduytpWAzCK5",
        "colab_type": "code",
        "colab": {
          "base_uri": "https://localhost:8080/",
          "height": 51
        },
        "outputId": "b63062d9-13b8-45a5-9436-c09f890715dc"
      },
      "source": [
        "# Predict on the first 5 test images.\n",
        "predictions = model.predict(x_test[:30])\n",
        "\n",
        "# Print our model's predictions.\n",
        "print(np.argmax(predictions, axis=1)) # [7, 2, 1, 0, 4]\n",
        "\n",
        "# Check our predictions against the ground truths.\n",
        "print(y_test[:30]) # [7, 2, 1, 0, 4]"
      ],
      "execution_count": 48,
      "outputs": [
        {
          "output_type": "stream",
          "text": [
            "[9 2 1 1 6 1 4 6 5 7 4 5 5 3 4 1 2 2 8 0 0 5 7 5 1 2 6 0 9 3]\n",
            "[9 2 1 1 6 1 4 6 5 7 4 5 7 3 4 1 2 4 8 0 2 5 7 9 1 4 6 0 9 3]\n"
          ],
          "name": "stdout"
        }
      ]
    },
    {
      "cell_type": "code",
      "metadata": {
        "id": "GGHECWL3zCLe",
        "colab_type": "code",
        "colab": {}
      },
      "source": [
        ""
      ],
      "execution_count": 0,
      "outputs": []
    }
  ]
}