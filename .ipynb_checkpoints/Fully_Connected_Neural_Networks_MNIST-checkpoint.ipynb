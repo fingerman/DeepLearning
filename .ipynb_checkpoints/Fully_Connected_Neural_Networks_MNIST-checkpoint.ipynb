{
 "cells": [
  {
   "cell_type": "code",
   "execution_count": 151,
   "metadata": {},
   "outputs": [],
   "source": [
    "import tensorflow as tf\n",
    "import matplotlib.pyplot as plt\n",
    "import tensorflow.keras as keras\n",
    "import numpy as np\n",
    "from tensorflow.keras import layers\n",
    "from tensorflow.keras.models import Sequential\n",
    "from tensorflow.keras.layers import Dense, Flatten"
   ]
  },
  {
   "cell_type": "code",
   "execution_count": 121,
   "metadata": {},
   "outputs": [],
   "source": [
    "\n",
    "mnist = keras.datasets.mnist\n",
    "\n",
    "(x_train, y_train), (x_test, y_test) = mnist.load_data()"
   ]
  },
  {
   "cell_type": "code",
   "execution_count": 174,
   "metadata": {},
   "outputs": [
    {
     "data": {
      "text/plain": [
       "<matplotlib.image.AxesImage at 0x1bc0384b048>"
      ]
     },
     "execution_count": 174,
     "metadata": {},
     "output_type": "execute_result"
    },
    {
     "data": {
      "image/png": "[encoded data removed]",
      "text/plain": [
       "<matplotlib.figure.Figure at 0x1bc037bdf28>"
      ]
     },
     "metadata": {
      "needs_background": "light"
     },
     "output_type": "display_data"
    }
   ],
   "source": [
    "plt.imshow(x_train[2], cmap = plt.cm.binary)"
   ]
  },
  {
   "cell_type": "code",
   "execution_count": 180,
   "metadata": {},
   "outputs": [
    {
     "name": "stdout",
     "output_type": "stream",
     "text": [
      "(60000, 28, 28)\n",
      "(10000, 28, 28)\n"
     ]
    }
   ],
   "source": [
    "print(x_train.shape)\n",
    "print(x_test.shape)"
   ]
  },
  {
   "cell_type": "code",
   "execution_count": 183,
   "metadata": {},
   "outputs": [],
   "source": [
    "# flatten each image before we can pass it into our neural network\n",
    "x_train = x_train.reshape((-1, 784))\n",
    "x_test = x_test.reshape((-1, 784))\n",
    "print(x_train.shape)\n",
    "print(x_test.shape)"
   ]
  },
  {
   "cell_type": "code",
   "execution_count": null,
   "metadata": {},
   "outputs": [],
   "source": []
  },
  {
   "cell_type": "code",
   "execution_count": 185,
   "metadata": {},
   "outputs": [
    {
     "name": "stdout",
     "output_type": "stream",
     "text": [
      "_________________________________________________________________\n",
      "Layer (type)                 Output Shape              Param #   \n",
      "=================================================================\n",
      "dense_142 (Dense)            (None, 64)                50240     \n",
      "_________________________________________________________________\n",
      "dense_143 (Dense)            (None, 32)                2080      \n",
      "_________________________________________________________________\n",
      "dense_144 (Dense)            (None, 10)                330       \n",
      "=================================================================\n",
      "Total params: 52,650\n",
      "Trainable params: 52,650\n",
      "Non-trainable params: 0\n",
      "_________________________________________________________________\n"
     ]
    }
   ],
   "source": [
    "model = Sequential([\n",
    "\n",
    "    \n",
    "    Dense(64, input_shape = (784,), activation = tf.nn.relu),\n",
    "    Dense(32, activation = tf.nn.relu),\n",
    "    Dense(10, activation = tf.nn.softmax)\n",
    "    ])\n",
    "#model.build() # `input_shape` is the shape of the input data e.g. input_shape = (None, 32, 32, 3)\n",
    "model.summary()\n",
    "\n",
    "          \n"
   ]
  },
  {
   "cell_type": "code",
   "execution_count": null,
   "metadata": {},
   "outputs": [],
   "source": []
  },
  {
   "cell_type": "code",
   "execution_count": 186,
   "metadata": {},
   "outputs": [],
   "source": [
    "model.compile(optimizer='adam',\n",
    "             loss='sparse_categorical_crossentropy',\n",
    "             metrics=['accuracy'] )\n"
   ]
  },
  {
   "cell_type": "code",
   "execution_count": 187,
   "metadata": {},
   "outputs": [
    {
     "name": "stdout",
     "output_type": "stream",
     "text": [
      "Epoch 1/3\n",
      "60000/60000 [==============================] - 8s 128us/step - loss: 0.3403 - acc: 0.9016\n",
      "Epoch 2/3\n",
      "60000/60000 [==============================] - 6s 107us/step - loss: 0.1523 - acc: 0.9539\n",
      "Epoch 3/3\n",
      "60000/60000 [==============================] - 7s 110us/step - loss: 0.1076 - acc: 0.9671\n"
     ]
    },
    {
     "data": {
      "text/plain": [
       "<tensorflow.python.keras.callbacks.History at 0x1bc01c8cbe0>"
      ]
     },
     "execution_count": 187,
     "metadata": {},
     "output_type": "execute_result"
    }
   ],
   "source": [
    "model.fit(x_train,y_train, epochs=3)\n"
   ]
  },
  {
   "cell_type": "code",
   "execution_count": 195,
   "metadata": {},
   "outputs": [
    {
     "name": "stdout",
     "output_type": "stream",
     "text": [
      "Train on 60000 samples, validate on 10000 samples\n",
      "Epoch 1/20\n",
      "60000/60000 [==============================] - 7s 117us/step - loss: 0.0476 - acc: 0.9851 - val_loss: 0.0934 - val_acc: 0.9715\n",
      "Epoch 2/20\n",
      "60000/60000 [==============================] - 7s 112us/step - loss: 0.0414 - acc: 0.9871 - val_loss: 0.1081 - val_acc: 0.9689\n",
      "Epoch 3/20\n",
      "60000/60000 [==============================] - 7s 111us/step - loss: 0.0348 - acc: 0.9888 - val_loss: 0.1039 - val_acc: 0.9701\n",
      "Epoch 4/20\n",
      "60000/60000 [==============================] - 7s 120us/step - loss: 0.0305 - acc: 0.9903 - val_loss: 0.1079 - val_acc: 0.9698\n",
      "Epoch 5/20\n",
      "60000/60000 [==============================] - 7s 114us/step - loss: 0.0254 - acc: 0.9918 - val_loss: 0.1067 - val_acc: 0.9686\n",
      "Epoch 6/20\n",
      "60000/60000 [==============================] - 7s 116us/step - loss: 0.0220 - acc: 0.9929 - val_loss: 0.1088 - val_acc: 0.9704\n",
      "Epoch 7/20\n",
      "60000/60000 [==============================] - 7s 118us/step - loss: 0.0187 - acc: 0.9939 - val_loss: 0.1155 - val_acc: 0.9722\n",
      "Epoch 8/20\n",
      "60000/60000 [==============================] - 7s 110us/step - loss: 0.0157 - acc: 0.9947 - val_loss: 0.1153 - val_acc: 0.9716\n",
      "Epoch 9/20\n",
      "60000/60000 [==============================] - 7s 109us/step - loss: 0.0139 - acc: 0.9957 - val_loss: 0.1315 - val_acc: 0.9704\n",
      "Epoch 10/20\n",
      "60000/60000 [==============================] - 7s 111us/step - loss: 0.0138 - acc: 0.9956 - val_loss: 0.1219 - val_acc: 0.9720\n",
      "Epoch 11/20\n",
      "60000/60000 [==============================] - 7s 109us/step - loss: 0.0119 - acc: 0.9962 - val_loss: 0.1417 - val_acc: 0.9691\n",
      "Epoch 12/20\n",
      "60000/60000 [==============================] - 7s 112us/step - loss: 0.0120 - acc: 0.9958 - val_loss: 0.1358 - val_acc: 0.9712\n",
      "Epoch 13/20\n",
      "60000/60000 [==============================] - 7s 113us/step - loss: 0.0095 - acc: 0.9969 - val_loss: 0.1353 - val_acc: 0.9717\n",
      "Epoch 14/20\n",
      "60000/60000 [==============================] - 7s 123us/step - loss: 0.0074 - acc: 0.9976 - val_loss: 0.1427 - val_acc: 0.9699\n",
      "Epoch 15/20\n",
      "60000/60000 [==============================] - 7s 116us/step - loss: 0.0100 - acc: 0.9964 - val_loss: 0.1456 - val_acc: 0.9712\n",
      "Epoch 16/20\n",
      "60000/60000 [==============================] - 7s 113us/step - loss: 0.0079 - acc: 0.9973 - val_loss: 0.1521 - val_acc: 0.9701\n",
      "Epoch 17/20\n",
      "60000/60000 [==============================] - 7s 121us/step - loss: 0.0077 - acc: 0.9974 - val_loss: 0.1528 - val_acc: 0.9704\n",
      "Epoch 18/20\n",
      "60000/60000 [==============================] - 7s 115us/step - loss: 0.0078 - acc: 0.9975 - val_loss: 0.1615 - val_acc: 0.9703\n",
      "Epoch 19/20\n",
      "60000/60000 [==============================] - 7s 119us/step - loss: 0.0069 - acc: 0.9977 - val_loss: 0.1536 - val_acc: 0.9709\n",
      "Epoch 20/20\n",
      "60000/60000 [==============================] - 7s 117us/step - loss: 0.0076 - acc: 0.9973 - val_loss: 0.1637 - val_acc: 0.9718\n",
      "Test loss: 0.16371356386220906\n",
      "Test accuracy: 0.9718\n"
     ]
    }
   ],
   "source": [
    "history = model.fit(x_train, y_train,\n",
    "                    batch_size=32,\n",
    "                    epochs=20,\n",
    "                    verbose=1,\n",
    "                    validation_data=(x_test, y_test))\n",
    "score = model.evaluate(x_test, y_test, verbose=0)\n",
    "print('Test loss:', score[0])\n",
    "print('Test accuracy:', score[1])"
   ]
  },
  {
   "cell_type": "code",
   "execution_count": 193,
   "metadata": {},
   "outputs": [
    {
     "name": "stdout",
     "output_type": "stream",
     "text": [
      "[7 2 1 0 4]\n",
      "[7 2 1 0 4]\n"
     ]
    }
   ],
   "source": [
    "# Predict on the first 5 test images.\n",
    "predictions = model.predict(x_test[:5])\n",
    "\n",
    "# Print our model's predictions.\n",
    "print(np.argmax(predictions, axis=1)) # [7, 2, 1, 0, 4]\n",
    "\n",
    "# Check our predictions against the ground truths.\n",
    "print(y_test[:5]) # [7, 2, 1, 0, 4]"
   ]
  },
  {
   "cell_type": "code",
   "execution_count": 196,
   "metadata": {},
   "outputs": [
    {
     "data": {
      "image/png": "[encoded data removed]",
      "text/plain": [
       "<matplotlib.figure.Figure at 0x1bc02b45b70>"
      ]
     },
     "metadata": {
      "needs_background": "light"
     },
     "output_type": "display_data"
    },
    {
     "data": {
      "image/png": "[encoded data removed]",
      "text/plain": [
       "<matplotlib.figure.Figure at 0x1bc02cd1278>"
      ]
     },
     "metadata": {
      "needs_background": "light"
     },
     "output_type": "display_data"
    }
   ],
   "source": [
    "acc = history.history['acc']\n",
    "val_acc = history.history['val_acc']\n",
    "loss = history.history['loss']\n",
    "val_loss = history.history['val_loss']\n",
    "\n",
    "epochs = range(len(acc))\n",
    "\n",
    "plt.plot(epochs, acc, 'bo', label='Training acc')\n",
    "plt.plot(epochs, val_acc, 'b', label='Validation acc')\n",
    "plt.title('Training and validation accuracy')\n",
    "plt.legend()\n",
    "\n",
    "plt.figure()\n",
    "\n",
    "plt.plot(epochs, loss, 'bo', label='Training loss')\n",
    "plt.plot(epochs, val_loss, 'b', label='Validation loss')\n",
    "plt.title('Training and validation loss')\n",
    "plt.legend()\n",
    "\n",
    "plt.show()"
   ]
  }
 ],
 "metadata": {
  "kernelspec": {
   "display_name": "Python 3",
   "language": "python",
   "name": "python3"
  },
  "language_info": {
   "codemirror_mode": {
    "name": "ipython",
    "version": 3
   },
   "file_extension": ".py",
   "mimetype": "text/x-python",
   "name": "python",
   "nbconvert_exporter": "python",
   "pygments_lexer": "ipython3",
   "version": "3.6.6"
  }
 },
 "nbformat": 4,
 "nbformat_minor": 2
}
