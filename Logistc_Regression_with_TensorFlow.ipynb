{
 "cells": [
  {
   "cell_type": "markdown",
   "metadata": {},
   "source": [
    "## Logistc Regression with TensorFlow "
   ]
  },
  {
   "cell_type": "code",
   "execution_count": 2,
   "metadata": {},
   "outputs": [],
   "source": [
    "import matplotlib.pyplot as plt\n",
    "import tensorflow as tf\n",
    "import pandas as pd\n",
    "import numpy as np"
   ]
  },
  {
   "cell_type": "code",
   "execution_count": 8,
   "metadata": {},
   "outputs": [],
   "source": [
    "from sklearn.datasets import load_iris\n",
    "iris = load_iris()\n",
    "attributes, labels = iris.data[:100, :2], iris.target[:100]\n",
    "# take just two classes of the Iris Data"
   ]
  },
  {
   "cell_type": "markdown",
   "metadata": {},
   "source": [
    "Add column of ones in the X. Run it just once ! "
   ]
  },
  {
   "cell_type": "code",
   "execution_count": 9,
   "metadata": {},
   "outputs": [],
   "source": [
    "def prepare_data(data, labels):\n",
    "    return (\n",
    "        np.hstack((np.ones((data.shape[0], 1)), data)), \n",
    "        labels.reshape(-1, 1))"
   ]
  },
  {
   "cell_type": "markdown",
   "metadata": {},
   "source": [
    "for Log Reg the data does not need so much to be intermingled "
   ]
  },
  {
   "cell_type": "code",
   "execution_count": 10,
   "metadata": {},
   "outputs": [
    {
     "data": {
      "text/plain": [
       "array([[1. , 5.1, 3.5],\n",
       "       [1. , 4.9, 3. ],\n",
       "       [1. , 4.7, 3.2],\n",
       "       [1. , 4.6, 3.1],\n",
       "       [1. , 5. , 3.6],\n",
       "       [1. , 5.4, 3.9],\n",
       "       [1. , 4.6, 3.4],\n",
       "       [1. , 5. , 3.4],\n",
       "       [1. , 4.4, 2.9],\n",
       "       [1. , 4.9, 3.1],\n",
       "       [1. , 5.4, 3.7],\n",
       "       [1. , 4.8, 3.4],\n",
       "       [1. , 4.8, 3. ],\n",
       "       [1. , 4.3, 3. ],\n",
       "       [1. , 5.8, 4. ],\n",
       "       [1. , 5.7, 4.4],\n",
       "       [1. , 5.4, 3.9],\n",
       "       [1. , 5.1, 3.5],\n",
       "       [1. , 5.7, 3.8],\n",
       "       [1. , 5.1, 3.8],\n",
       "       [1. , 5.4, 3.4],\n",
       "       [1. , 5.1, 3.7],\n",
       "       [1. , 4.6, 3.6],\n",
       "       [1. , 5.1, 3.3],\n",
       "       [1. , 4.8, 3.4],\n",
       "       [1. , 5. , 3. ],\n",
       "       [1. , 5. , 3.4],\n",
       "       [1. , 5.2, 3.5],\n",
       "       [1. , 5.2, 3.4],\n",
       "       [1. , 4.7, 3.2],\n",
       "       [1. , 4.8, 3.1],\n",
       "       [1. , 5.4, 3.4],\n",
       "       [1. , 5.2, 4.1],\n",
       "       [1. , 5.5, 4.2],\n",
       "       [1. , 4.9, 3.1],\n",
       "       [1. , 5. , 3.2],\n",
       "       [1. , 5.5, 3.5],\n",
       "       [1. , 4.9, 3.1],\n",
       "       [1. , 4.4, 3. ],\n",
       "       [1. , 5.1, 3.4],\n",
       "       [1. , 5. , 3.5],\n",
       "       [1. , 4.5, 2.3],\n",
       "       [1. , 4.4, 3.2],\n",
       "       [1. , 5. , 3.5],\n",
       "       [1. , 5.1, 3.8],\n",
       "       [1. , 4.8, 3. ],\n",
       "       [1. , 5.1, 3.8],\n",
       "       [1. , 4.6, 3.2],\n",
       "       [1. , 5.3, 3.7],\n",
       "       [1. , 5. , 3.3],\n",
       "       [1. , 7. , 3.2],\n",
       "       [1. , 6.4, 3.2],\n",
       "       [1. , 6.9, 3.1],\n",
       "       [1. , 5.5, 2.3],\n",
       "       [1. , 6.5, 2.8],\n",
       "       [1. , 5.7, 2.8],\n",
       "       [1. , 6.3, 3.3],\n",
       "       [1. , 4.9, 2.4],\n",
       "       [1. , 6.6, 2.9],\n",
       "       [1. , 5.2, 2.7],\n",
       "       [1. , 5. , 2. ],\n",
       "       [1. , 5.9, 3. ],\n",
       "       [1. , 6. , 2.2],\n",
       "       [1. , 6.1, 2.9],\n",
       "       [1. , 5.6, 2.9],\n",
       "       [1. , 6.7, 3.1],\n",
       "       [1. , 5.6, 3. ],\n",
       "       [1. , 5.8, 2.7],\n",
       "       [1. , 6.2, 2.2],\n",
       "       [1. , 5.6, 2.5],\n",
       "       [1. , 5.9, 3.2],\n",
       "       [1. , 6.1, 2.8],\n",
       "       [1. , 6.3, 2.5],\n",
       "       [1. , 6.1, 2.8],\n",
       "       [1. , 6.4, 2.9],\n",
       "       [1. , 6.6, 3. ],\n",
       "       [1. , 6.8, 2.8],\n",
       "       [1. , 6.7, 3. ],\n",
       "       [1. , 6. , 2.9],\n",
       "       [1. , 5.7, 2.6],\n",
       "       [1. , 5.5, 2.4],\n",
       "       [1. , 5.5, 2.4],\n",
       "       [1. , 5.8, 2.7],\n",
       "       [1. , 6. , 2.7],\n",
       "       [1. , 5.4, 3. ],\n",
       "       [1. , 6. , 3.4],\n",
       "       [1. , 6.7, 3.1],\n",
       "       [1. , 6.3, 2.3],\n",
       "       [1. , 5.6, 3. ],\n",
       "       [1. , 5.5, 2.5],\n",
       "       [1. , 5.5, 2.6],\n",
       "       [1. , 6.1, 3. ],\n",
       "       [1. , 5.8, 2.6],\n",
       "       [1. , 5. , 2.3],\n",
       "       [1. , 5.6, 2.7],\n",
       "       [1. , 5.7, 3. ],\n",
       "       [1. , 5.7, 2.9],\n",
       "       [1. , 6.2, 2.9],\n",
       "       [1. , 5.1, 2.5],\n",
       "       [1. , 5.7, 2.8]])"
      ]
     },
     "execution_count": 10,
     "metadata": {},
     "output_type": "execute_result"
    }
   ],
   "source": [
    "attributes, labels = prepare_data(attributes, labels)"
   ]
  },
  {
   "cell_type": "markdown",
   "metadata": {},
   "source": [
    "Define the input and output as placeholders. Here just the graph is defineds. It s not feeded with data. "
   ]
  },
  {
   "cell_type": "code",
   "execution_count": 12,
   "metadata": {},
   "outputs": [],
   "source": [
    "tf.reset_default_graph()\n",
    "X = tf.placeholder(tf.float32, attributes.shape)\n",
    "Y = tf.placeholder(tf.float32, labels.shape)"
   ]
  },
  {
   "cell_type": "markdown",
   "metadata": {},
   "source": [
    "Create a variable for the weights. This will be changed later as the model trains"
   ]
  },
  {
   "cell_type": "code",
   "execution_count": 13,
   "metadata": {},
   "outputs": [],
   "source": [
    "w = tf.get_variable(\"w\", (attributes.shape[1], 1))"
   ]
  },
  {
   "cell_type": "markdown",
   "metadata": {},
   "source": [
    "Create the objective function 𝑦  ̃=  𝜎(𝑋𝑤)"
   ]
  },
  {
   "cell_type": "code",
   "execution_count": 14,
   "metadata": {},
   "outputs": [],
   "source": [
    "Z = tf.matmul(X, w)  # get all linear combinations of the weights\n",
    "y_tilde = tf.sigmoid(Z)"
   ]
  },
  {
   "cell_type": "markdown",
   "metadata": {},
   "source": [
    "define the loss:"
   ]
  },
  {
   "cell_type": "code",
   "execution_count": 15,
   "metadata": {},
   "outputs": [],
   "source": [
    "loss = tf.reduce_mean(tf.nn.sigmoid_cross_entropy_with_logits(\n",
    "    logits = Z,\n",
    "    labels = Y))"
   ]
  },
  {
   "cell_type": "code",
   "execution_count": 17,
   "metadata": {},
   "outputs": [],
   "source": [
    "optimizer = tf.train.GradientDescentOptimizer(\n",
    "    learning_rate = 0.1).minimize(loss)\n",
    "# tensorflow does backpropagation automatically"
   ]
  },
  {
   "cell_type": "markdown",
   "metadata": {},
   "source": [
    "### Train the Model\n",
    "Each run of the the optimizer performs one step of gradient descent"
   ]
  },
  {
   "cell_type": "code",
   "execution_count": 18,
   "metadata": {},
   "outputs": [],
   "source": [
    "feed_dict = {X: attributes, Y: labels}\n",
    "losses = []\n",
    "session = tf.Session()\n",
    "session.run(tf.global_variables_initializer())\n",
    "for i in range(5000):\n",
    "    session.run(optimizer, feed_dict = feed_dict)\n",
    "    losses.append(session.run(loss, feed_dict = feed_dict))"
   ]
  },
  {
   "cell_type": "code",
   "execution_count": 24,
   "metadata": {},
   "outputs": [
    {
     "data": {
      "text/plain": [
       "[<matplotlib.lines.Line2D at 0x402e9c1940>]"
      ]
     },
     "execution_count": 24,
     "metadata": {},
     "output_type": "execute_result"
    },
    {
     "data": {
      "image/png": "[encoded data removed]",
      "text/plain": [
       "<matplotlib.figure.Figure at 0x4035de9550>"
      ]
     },
     "metadata": {
      "needs_background": "light"
     },
     "output_type": "display_data"
    }
   ],
   "source": [
    "plt.plot(losses)"
   ]
  },
  {
   "cell_type": "code",
   "execution_count": 25,
   "metadata": {},
   "outputs": [
    {
     "data": {
      "text/plain": [
       "array([[-2.148312 ],\n",
       "       [ 5.1075234],\n",
       "       [-8.2439375]], dtype=float32)"
      ]
     },
     "execution_count": 25,
     "metadata": {},
     "output_type": "execute_result"
    }
   ],
   "source": [
    "# the weights\n",
    "session.run(w, feed_dict = feed_dict)"
   ]
  },
  {
   "cell_type": "markdown",
   "metadata": {},
   "source": [
    "make a tensor to calculate the average accuracy: \n",
    "\\begin{equation*}\n",
    "A = \\frac{1}{n}\\sum_{i}y_{i}\\equiv \\tilde{y}_{i}\n",
    "\\end{equation*}"
   ]
  },
  {
   "cell_type": "code",
   "execution_count": 26,
   "metadata": {},
   "outputs": [
    {
     "data": {
      "text/plain": [
       "0.99"
      ]
     },
     "execution_count": 26,
     "metadata": {},
     "output_type": "execute_result"
    }
   ],
   "source": [
    "prediction = tf.cast(y_tilde >= 0.5, tf.float32)\n",
    "accuracy = tf.reduce_mean(\n",
    "    tf.cast(tf.equal(prediction, Y), tf.float32))\n",
    "session.run(accuracy, feed_dict = feed_dict)"
   ]
  },
  {
   "cell_type": "code",
   "execution_count": 28,
   "metadata": {},
   "outputs": [],
   "source": [
    "writer = tf.summary.FileWriter(\"logs\", session.graph)"
   ]
  }
 ],
 "metadata": {
  "kernelspec": {
   "display_name": "Python 3",
   "language": "python",
   "name": "python3"
  },
  "language_info": {
   "codemirror_mode": {
    "name": "ipython",
    "version": 3
   },
   "file_extension": ".py",
   "mimetype": "text/x-python",
   "name": "python",
   "nbconvert_exporter": "python",
   "pygments_lexer": "ipython3",
   "version": "3.6.6"
  }
 },
 "nbformat": 4,
 "nbformat_minor": 2
}
